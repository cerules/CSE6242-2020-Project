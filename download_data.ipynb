{
 "cells": [
  {
   "cell_type": "code",
   "execution_count": 8,
   "metadata": {},
   "outputs": [],
   "source": [
    "import urllib.request\n",
    "import gzip\n",
    "import json\n",
    "import sqlite3\n",
    "from tqdm import tqdm"
   ]
  },
  {
   "cell_type": "code",
   "execution_count": 9,
   "metadata": {},
   "outputs": [],
   "source": [
    "base_url = \"https://s3-us-west-2.amazonaws.com/ai2-s2-research-public/open-corpus/2020-03-01/\"\n",
    "response = urllib.request.urlopen(base_url + \"manifest.txt\")\n",
    "manifest = response.read().decode('utf-8')\n",
    "files = manifest.split(\"\\n\")\n",
    "files = files[:-2] # last two files are sample and readme"
   ]
  },
  {
   "cell_type": "code",
   "execution_count": null,
   "metadata": {},
   "outputs": [],
   "source": [
    "conn = sqlite3.connect(\"ontovec.db\")\n",
    "c = conn.cursor()\n",
    "c.execute('''CREATE TABLE papers (id text, title text, abstract text, doi text)''')"
   ]
  },
  {
   "cell_type": "code",
   "execution_count": null,
   "metadata": {},
   "outputs": [],
   "source": [
    "def insertPaper(cursor, paper):\n",
    "    sql = \"INSERT INTO papers (id,title,abstract,doi) VALUES (?, ?, ?, ?)\"\n",
    "    cursor.execute(sql, (paper['id'], paper['title'], paper['paperAbstract'], paper['doi']))"
   ]
  },
  {
   "cell_type": "code",
   "execution_count": null,
   "metadata": {},
   "outputs": [],
   "source": [
    "def downloadFile(file):\n",
    "    print(file)\n",
    "    response = urllib.request.urlopen(base_url + file)\n",
    "    unzippedBytes = gzip.decompress(response.read())\n",
    "    decodedFile = unzippedBytes.decode('utf-8')\n",
    "    jsons = decodedFile.split(\"\\n\")\n",
    "    with tqdm(total=len(jsons)) as pbar:\n",
    "        pbar.set_description(file)\n",
    "        for jsonPaper in jsons:\n",
    "            if jsonPaper and jsonPaper.strip():\n",
    "                try:\n",
    "                    paper = json.loads(jsonPaper)\n",
    "                    insertPaper(c, paper)\n",
    "                except:\n",
    "                    print(\"failed: {}\".format(jsonPaper))\n",
    "            pbar.update(1)"
   ]
  },
  {
   "cell_type": "code",
   "execution_count": null,
   "metadata": {},
   "outputs": [],
   "source": [
    "for file in files:\n",
    "    downloadFile(file)"
   ]
  },
  {
   "cell_type": "code",
   "execution_count": null,
   "metadata": {},
   "outputs": [],
   "source": [
    "# Save (commit) the changes\n",
    "conn.commit()\n",
    "\n",
    "# We can also close the connection if we are done with it.\n",
    "# Just be sure any changes have been committed or they will be lost.\n",
    "conn.close()"
   ]
  },
  {
   "cell_type": "code",
   "execution_count": 4,
   "metadata": {},
   "outputs": [],
   "source": [
    "from multiprocessing import Pool"
   ]
  },
  {
   "cell_type": "code",
   "execution_count": 5,
   "metadata": {},
   "outputs": [],
   "source": [
    "p=Pool(processes = 4)"
   ]
  },
  {
   "cell_type": "code",
   "execution_count": null,
   "metadata": {},
   "outputs": [],
   "source": [
    "output = p.map()"
   ]
  }
 ],
 "metadata": {
  "kernelspec": {
   "display_name": "Python 3",
   "language": "python",
   "name": "python3"
  },
  "language_info": {
   "codemirror_mode": {
    "name": "ipython",
    "version": 3
   },
   "file_extension": ".py",
   "mimetype": "text/x-python",
   "name": "python",
   "nbconvert_exporter": "python",
   "pygments_lexer": "ipython3",
   "version": "3.8.1"
  }
 },
 "nbformat": 4,
 "nbformat_minor": 4
}
